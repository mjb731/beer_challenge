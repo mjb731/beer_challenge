{
 "cells": [
  {
   "cell_type": "code",
   "execution_count": 1,
   "source": [
    "from collections import Counter\n",
    "import pandas as pd\n",
    "import random\n",
    "import spacy\n",
    "from spacy.pipeline.textcat_multilabel import Config, multi_label_cnn_config\n",
    "from spacy.training.example import Example\n",
    "from spacy.util import minibatch, compounding\n"
   ],
   "outputs": [],
   "metadata": {}
  },
  {
   "cell_type": "code",
   "execution_count": 2,
   "source": [
    "beers = pd.read_csv('./BeerDataScienceProject.csv', encoding ='latin1')\n",
    "# get an idea of what the data looks like\n",
    "print(beers.describe())\n",
    "print(beers.columns)"
   ],
   "outputs": [
    {
     "output_type": "stream",
     "name": "stdout",
     "text": [
      "            beer_ABV    beer_beerId  beer_brewerId  review_appearance  \\\n",
      "count  508590.000000  528870.000000  528870.000000      528870.000000   \n",
      "mean        7.017442   22098.466016    2598.423429           3.864522   \n",
      "std         2.204460   22158.284352    5281.805350           0.604010   \n",
      "min         0.010000       3.000000       1.000000           0.000000   \n",
      "25%         5.300000    1745.000000     132.000000           3.500000   \n",
      "50%         6.500000   14368.000000     394.000000           4.000000   \n",
      "75%         8.500000   40528.000000    1475.000000           4.000000   \n",
      "max        57.700000   77310.000000   27980.000000           5.000000   \n",
      "\n",
      "       review_palette  review_overall   review_taste   review_aroma  \\\n",
      "count   528870.000000   528870.000000  528870.000000  528870.000000   \n",
      "mean         3.758926        3.833197       3.765993       3.817350   \n",
      "std          0.685335        0.709962       0.669018       0.718903   \n",
      "min          1.000000        0.000000       1.000000       1.000000   \n",
      "25%          3.500000        3.500000       3.500000       3.500000   \n",
      "50%          4.000000        4.000000       4.000000       4.000000   \n",
      "75%          4.000000        4.500000       4.000000       4.500000   \n",
      "max          5.000000        5.000000       5.000000       5.000000   \n",
      "\n",
      "        review_time  \n",
      "count  5.288700e+05  \n",
      "mean   1.224885e+09  \n",
      "std    7.605600e+07  \n",
      "min    8.843904e+08  \n",
      "25%    1.174613e+09  \n",
      "50%    1.240366e+09  \n",
      "75%    1.288560e+09  \n",
      "max    1.326277e+09  \n",
      "Index(['beer_ABV', 'beer_beerId', 'beer_brewerId', 'beer_name', 'beer_style',\n",
      "       'review_appearance', 'review_palette', 'review_overall', 'review_taste',\n",
      "       'review_profileName', 'review_aroma', 'review_text', 'review_time'],\n",
      "      dtype='object')\n"
     ]
    }
   ],
   "metadata": {}
  },
  {
   "cell_type": "code",
   "execution_count": 3,
   "source": [
    "    # 1. Rank top 3 Breweries which produce the strongest beers?\n",
    "    # 2. Which year did beers enjoy the highest ratings? \n",
    "    # 3. Based on the user’s ratings which factors are important among taste, aroma, appearance, and palette?\n",
    "    # 4. If you were to recommend 3 beers to your friends based on this data which ones will you recommend?\n",
    "    # 5. Which Beer style seems to be the favorite based on reviews written by users? \n",
    "    # 6. How does written review compare to overall review score for the beer styles?\n",
    "    # 7. How do find similar beer drinkers by using written reviews only?       "
   ],
   "outputs": [],
   "metadata": {}
  },
  {
   "cell_type": "code",
   "execution_count": 4,
   "source": [
    "    # 1. Rank top 3 Breweries which produce the strongest beers?\n",
    "\n",
    "# remove duplicate beer listings (because of multiple reviews)\n",
    "beers_groups_by_brewer = beers.drop_duplicates(['beer_brewerId', 'beer_name'],keep= 'last').groupby(['beer_brewerId'], axis=0).mean()\n",
    "print(beers_groups_by_brewer.nlargest(3, 'beer_ABV')['beer_ABV'])"
   ],
   "outputs": [
    {
     "output_type": "stream",
     "name": "stdout",
     "text": [
      "beer_brewerId\n",
      "6513     24.690000\n",
      "736      13.500000\n",
      "24215    12.466667\n",
      "Name: beer_ABV, dtype: float64\n"
     ]
    }
   ],
   "metadata": {}
  },
  {
   "cell_type": "code",
   "execution_count": 5,
   "source": [
    "    # 2. Which year did beers enjoy the highest ratings? \n",
    "beers['review_year'] = pd.to_datetime(beers['review_time'], unit='s').dt.year\n",
    "beers_groups_by_year = beers.groupby(['review_year'], axis=0).mean()\n",
    "print(beers_groups_by_year.nlargest(3, 'review_appearance')['review_appearance'])\n",
    "print(beers_groups_by_year.nlargest(3, 'review_palette')['review_palette'])\n",
    "print(beers_groups_by_year.nlargest(3, 'review_overall')['review_overall'])\n",
    "print(beers_groups_by_year.nlargest(3, 'review_taste')['review_taste'])\n",
    "print(beers_groups_by_year.nlargest(3, 'review_aroma')['review_aroma'])\n",
    "\n",
    "beers_groups_by_year = beers_groups_by_year[['review_appearance', 'review_palette', 'review_taste', 'review_aroma', 'review_overall']]\n",
    "\n",
    "# highest ratings = sum of all ratings, out of 25 total\n",
    "beers_groups_by_year[\"sum_column\"] = beers_groups_by_year.sum(1)\n",
    "print(beers_groups_by_year['sum_column'])\n",
    "beers_groups_by_year = beers_groups_by_year.sort_values(\"sum_column\", ascending=False)\n",
    "beers_groups_by_year = beers_groups_by_year.drop(\"sum_column\", axis=1)\n",
    "\n",
    "# graph that is sorted, with highest rankings first\n",
    "ax = beers_groups_by_year.plot.bar(stacked=True)"
   ],
   "outputs": [
    {
     "output_type": "stream",
     "name": "stdout",
     "text": [
      "review_year\n",
      "2000    3.909091\n",
      "2010    3.897788\n",
      "2012    3.896226\n",
      "Name: review_appearance, dtype: float64\n",
      "review_year\n",
      "2000    3.939394\n",
      "2010    3.798502\n",
      "2012    3.797170\n",
      "Name: review_palette, dtype: float64\n",
      "review_year\n",
      "2000    4.181818\n",
      "1999    4.000000\n",
      "2001    3.927741\n",
      "Name: review_overall, dtype: float64\n",
      "review_year\n",
      "2000    3.984848\n",
      "1999    3.820000\n",
      "2010    3.808075\n",
      "Name: review_taste, dtype: float64\n",
      "review_year\n",
      "2000    4.196970\n",
      "1999    3.960000\n",
      "1998    3.956522\n",
      "Name: review_aroma, dtype: float64\n",
      "review_year\n",
      "1998    18.478261\n",
      "1999    19.160000\n",
      "2000    20.212121\n",
      "2001    19.197674\n",
      "2002    18.710724\n",
      "2003    18.535960\n",
      "2004    18.764680\n",
      "2005    18.974145\n",
      "2006    18.809484\n",
      "2007    18.844133\n",
      "2008    19.027533\n",
      "2009    19.198282\n",
      "2010    19.219763\n",
      "2011    19.123182\n",
      "2012    19.155975\n",
      "Name: sum_column, dtype: float64\n"
     ]
    },
    {
     "output_type": "display_data",
     "data": {
      "image/png": "[encoded data removed]",
      "text/plain": [
       "<Figure size 432x288 with 1 Axes>"
      ]
     },
     "metadata": {
      "needs_background": "light"
     }
    }
   ],
   "metadata": {}
  },
  {
   "cell_type": "code",
   "execution_count": 6,
   "source": [
    "nlp = spacy.load(\"en_core_web_sm\")\n",
    "\n",
    "def get_adjectives_and_nouns(review):\n",
    "    adjs = set()\n",
    "    nouns = set()\n",
    "    for rev in review:\n",
    "        if rev.pos_ == 'ADJ':\n",
    "            adjs.add(rev.text.lower())\n",
    "        if rev.pos_ == 'NOUN':\n",
    "            nouns.add(rev.text.lower())\n",
    "    return nouns, adjs\n",
    "\n",
    "def get_reviews(reviws):\n",
    "    review_nouns = Counter()\n",
    "    review_adjs = Counter()\n",
    "    for doc in reviews:\n",
    "    # for review in reviews:\n",
    "        if isinstance(doc, float):\n",
    "            continue\n",
    "        nlp_review = nlp(doc)\n",
    "        nouns, adjs = get_adjectives_and_nouns(nlp_review)\n",
    "        review_nouns.update(nouns)\n",
    "        review_adjs.update(adjs)\n",
    "        # print(adjs, nouns)\n",
    "        # print(len(review_nouns), len(review_adjs))\n",
    "\n",
    "    # print(review_nouns.most_common())\n",
    "    # print(review_adjs.most_common())\n",
    "\n",
    "    return review_nouns, review_adjs\n",
    "\n",
    "\n"
   ],
   "outputs": [],
   "metadata": {}
  },
  {
   "cell_type": "code",
   "execution_count": 7,
   "source": [
    "    # 3. Based on the user’s ratings which factors are important among taste, aroma, appearance, and palette?\n",
    "\n",
    "    # check the adjectives and the nouns of the highest ratings in each category\n",
    "    # then count with adjectives and nouns were most frequetly used\n",
    "    # as those would be the most important factors\n",
    "\n",
    "    reviews = beers[beers['review_taste'] > 4.5]['review_text']\n",
    "\n",
    "    runs = 1000\n",
    "    reviews = beers[beers['review_taste'] >= 4.5]['review_text'].head(runs)\n",
    "    review_taste_nouns, review_taste_adjs = get_reviews(reviews)\n",
    "\n",
    "    reviews = beers[beers['review_aroma'] >= 4.5]['review_text'].head(runs)\n",
    "    review_aroma_nouns, review_aroma_adjs = get_reviews(reviews)\n",
    "\n",
    "    reviews = beers[beers['review_appearance'] >= 4.5]['review_text'].head(runs)\n",
    "    review_appearance_nouns, review_appearance_adjs = get_reviews(reviews)\n",
    "\n",
    "    reviews = beers[beers['review_palette'] >= 4.5]['review_text'].head(runs)\n",
    "    review_palette_nouns, review_palette_adjs = get_reviews(reviews)\n",
    "\n"
   ],
   "outputs": [],
   "metadata": {}
  },
  {
   "cell_type": "code",
   "execution_count": 8,
   "source": [
    "# answers to question 3\n",
    "\n",
    "print('review_taste_nouns', review_taste_nouns.most_common(20))\n",
    "print('review_taste_adjs', review_taste_adjs.most_common(20))\n",
    "print('review_aroma_nouns', review_aroma_nouns.most_common(20))\n",
    "print('review_aroma_adjs', review_aroma_adjs.most_common(20))\n",
    "print('review_appearance_nouns', review_appearance_nouns.most_common(20))\n",
    "print('review_appearance_adjs', review_appearance_adjs.most_common(20))\n",
    "print('review_palette_nouns', review_palette_nouns.most_common(20))\n",
    "print('review_palette_adjs', review_palette_adjs.most_common(20))\n"
   ],
   "outputs": [
    {
     "output_type": "stream",
     "name": "stdout",
     "text": [
      "review_taste_nouns [('head', 861), ('beer', 578), ('taste', 478), ('chocolate', 447), ('carbonation', 422), ('malt', 387), ('glass', 338), ('coffee', 327), ('flavor', 316), ('bit', 316), ('alcohol', 310), ('lacing', 309), ('finish', 309), ('hops', 284), ('aroma', 280), ('color', 273), ('body', 259), ('flavors', 256), ('nose', 256), ('vanilla', 245)]\n",
      "review_taste_adjs [('nice', 472), ('dark', 463), ('sweet', 383), ('good', 374), ('black', 363), ('smooth', 323), ('thick', 300), ('roasted', 300), ('great', 283), ('little', 277), ('creamy', 276), ('brown', 266), ('full', 258), ('bitter', 226), ('more', 222), ('big', 206), ('light', 189), ('rich', 175), ('bodied', 168), ('slight', 166)]\n",
      "review_aroma_nouns [('head', 838), ('beer', 603), ('taste', 469), ('carbonation', 394), ('malt', 385), ('color', 341), ('glass', 325), ('flavor', 323), ('hops', 322), ('finish', 314), ('bit', 305), ('lacing', 304), ('chocolate', 304), ('aroma', 274), ('alcohol', 250), ('flavors', 247), ('body', 245), ('hop', 244), ('notes', 233), ('nose', 231)]\n",
      "review_aroma_adjs [('nice', 463), ('good', 406), ('sweet', 358), ('dark', 346), ('great', 288), ('little', 261), ('smooth', 259), ('thick', 247), ('black', 232), ('full', 227), ('more', 223), ('bitter', 222), ('big', 215), ('white', 209), ('roasted', 208), ('light', 206), ('brown', 196), ('bodied', 178), ('creamy', 173), ('medium', 169)]\n",
      "review_appearance_nouns [('head', 850), ('beer', 585), ('taste', 473), ('carbonation', 402), ('chocolate', 392), ('malt', 377), ('glass', 347), ('hops', 335), ('bit', 334), ('flavor', 332), ('finish', 311), ('lacing', 306), ('alcohol', 305), ('coffee', 298), ('body', 290), ('aroma', 289), ('color', 285), ('bitterness', 273), ('hop', 265), ('nose', 249)]\n",
      "review_appearance_adjs [('nice', 459), ('good', 414), ('dark', 405), ('sweet', 373), ('black', 311), ('thick', 292), ('great', 289), ('bitter', 271), ('smooth', 267), ('little', 256), ('roasted', 246), ('brown', 239), ('creamy', 235), ('more', 234), ('big', 221), ('full', 212), ('white', 194), ('light', 185), ('medium', 180), ('deep', 166)]\n",
      "review_palette_nouns [('head', 842), ('beer', 600), ('taste', 501), ('carbonation', 417), ('malt', 352), ('glass', 336), ('color', 336), ('lacing', 331), ('finish', 330), ('flavor', 326), ('bit', 320), ('chocolate', 313), ('hops', 305), ('aroma', 286), ('alcohol', 283), ('body', 266), ('nose', 265), ('flavors', 248), ('hop', 236), ('bottle', 233)]\n",
      "review_palette_adjs [('nice', 464), ('good', 425), ('sweet', 358), ('dark', 351), ('little', 285), ('more', 267), ('bitter', 262), ('great', 262), ('smooth', 246), ('black', 245), ('thick', 230), ('brown', 225), ('white', 223), ('full', 215), ('big', 209), ('light', 201), ('roasted', 189), ('creamy', 187), ('thin', 177), ('bodied', 171)]\n"
     ]
    }
   ],
   "metadata": {}
  },
  {
   "cell_type": "code",
   "execution_count": 9,
   "source": [
    "def initialize_training_data(beers):\n",
    "    beers_training = []\n",
    "    for index, beer in beers.iterrows():\n",
    "        beer_review_label = {\n",
    "            \"cats\": {\n",
    "                \"aroma\": beer.review_aroma/5.0, # normalize ratings\n",
    "                \"taste\": beer.review_taste/5.0,\n",
    "                \"appearance\": beer.review_appearance/5.0,\n",
    "                \"palette\": beer.review_palette/5.0,\n",
    "                \"overall\": beer.review_overall/5.0\n",
    "            }\n",
    "        }\n",
    "        beers_training.append((beer.review_text, beer_review_label))\n",
    "    return beers_training\n",
    "\n",
    "beers_training = initialize_training_data(beers)\n",
    "\n"
   ],
   "outputs": [],
   "metadata": {}
  },
  {
   "cell_type": "code",
   "execution_count": 10,
   "source": [
    "# loosely based on https://realpython.com/sentiment-analysis-python/\n",
    "# but had to modify bc updated spacy package\n",
    "# and for multilabel cnn config\n",
    "\n",
    "def train_model(training_data, iterations:int = 10):\n",
    "    nlp = spacy.blank('en')\n",
    "    if \"textcat_multilabel\" not in nlp.pipe_names:\n",
    "        textcat = nlp.add_pipe(\"textcat_multilabel\", config=Config().from_str(multi_label_cnn_config))\n",
    "    else:\n",
    "        textcat = nlp.get_pipe(\"textcat_multilabel\")\n",
    "\n",
    "    textcat.add_label(\"aroma\")\n",
    "    textcat.add_label(\"taste\")\n",
    "    textcat.add_label(\"appearance\")\n",
    "    textcat.add_label(\"palette\")\n",
    "    textcat.add_label(\"overall\")\n",
    "\n",
    "    training_excluded_pipes = [pipe for pipe in nlp.pipe_names if pipe != \"textcat\"]\n",
    "\n",
    "    with nlp.disable_pipes(training_excluded_pipes):\n",
    "        optimizer = nlp.initialize()\n",
    "        # Training loop\n",
    "        print(\"Beginning training\")\n",
    "        batch_sizes = compounding(\n",
    "            4.0, 32.0, 1.001\n",
    "        )  # A generator that yields infinite series of input numbers\n",
    "        for i in range(iterations):\n",
    "            print(i)\n",
    "            loss = {}\n",
    "            random.shuffle(training_data)\n",
    "            batches = minibatch(training_data, size=batch_sizes)\n",
    "            for batch in batches:\n",
    "                examples = []\n",
    "                for text, label in batch:\n",
    "                    if isinstance(text, float):\n",
    "                        continue\n",
    "                    doc = nlp.make_doc(text)\n",
    "                    example = Example.from_dict(doc, label)\n",
    "                    examples.append(example)\n",
    "                nlp.update(\n",
    "                    examples,\n",
    "                    drop=0.2,\n",
    "                    sgd=optimizer,\n",
    "                    losses=loss\n",
    "                )\n",
    "    # Save model\n",
    "    with nlp.use_params(optimizer.averages):\n",
    "        nlp.to_disk(\"model_artifacts\")\n",
    "\n",
    "    pass\n"
   ],
   "outputs": [],
   "metadata": {}
  },
  {
   "cell_type": "code",
   "execution_count": 11,
   "source": [
    "    # 4. If you were to recommend 3 beers to your friends based on this data which ones will you recommend?\n",
    "\n",
    "# I would use the similarity function to compare a description of the beer that I would consider ideal and compare that to all of the review_text columns\n"
   ],
   "outputs": [],
   "metadata": {}
  },
  {
   "cell_type": "code",
   "execution_count": 12,
   "source": [
    "    # 5. Which Beer style seems to be the favorite based on reviews written by users? \n",
    "\n",
    "# search for \"favorite\" in the review text\n",
    "beer_styles = beers[beers['review_text'].str.contains('favorite', na=False)]\n",
    "# normalize by the # of beers in each style\n",
    "beer_style_favorites = (beer_styles.groupby('beer_style').size()/beers.groupby('beer_style').size()).nlargest(20)\n",
    "print(beer_style_favorites)"
   ],
   "outputs": [
    {
     "output_type": "stream",
     "name": "stdout",
     "text": [
      "beer_style\n",
      "Pumpkin Ale                  0.079809\n",
      "Gose                         0.077778\n",
      "Märzen / Oktoberfest         0.071877\n",
      "Vienna Lager                 0.071165\n",
      "Tripel                       0.068660\n",
      "Oatmeal Stout                0.066934\n",
      "Schwarzbier                  0.066024\n",
      "Quadrupel (Quad)             0.065869\n",
      "Belgian Strong Dark Ale      0.065425\n",
      "Weizenbock                   0.064819\n",
      "Milk / Sweet Stout           0.062791\n",
      "Dortmunder / Export Lager    0.061913\n",
      "Witbier                      0.061618\n",
      "Rye Beer                     0.061595\n",
      "Maibock / Helles Bock        0.058388\n",
      "Lambic - Unblended           0.058156\n",
      "American Brown Ale           0.057620\n",
      "Czech Pilsener               0.057314\n",
      "American IPA                 0.057138\n",
      "Scotch Ale / Wee Heavy       0.057030\n",
      "dtype: float64\n"
     ]
    }
   ],
   "metadata": {}
  },
  {
   "cell_type": "code",
   "execution_count": 13,
   "source": [
    "def compare_review(review:str):\n",
    "    nlp = spacy.load(\"model_artifacts\")\n",
    "    nlp.initialize()\n",
    "    text = nlp(review)\n",
    "    print(text)\n",
    "    print(text.cats)\n"
   ],
   "outputs": [],
   "metadata": {}
  },
  {
   "cell_type": "code",
   "execution_count": 16,
   "source": [
    "    # 6. How does written review compare to overall review score for the beer styles?\n",
    "\n",
    "# train model\n",
    "print(beers_training[0])\n",
    "train_model(beers_training)\n",
    "\n",
    "# evaluate the model (prob need to do better job splitting train/test data)\n",
    "# TODO: compare_review of the test data with the expected value\n",
    "# since the ratings are normalizes 0-1 and independent,\n",
    "# could test rmse for each of the five rating labels to see how text compares to ratings\n",
    "# group rmse results by style\n",
    "\n",
    "compare_review(\"I like a smooth finish on a beer.  The aroma was chocolatey goodness.  I didn't really care for the taste though.  The lacing in the glass was incredible, definitely my favorite beer.\")"
   ],
   "outputs": [
    {
     "output_type": "stream",
     "name": "stdout",
     "text": [
      "('A lot of foam. But a lot. In the smell some banana, and then lactic and tart. Not a good start. Quite dark orange in color, with a lively carbonation (now visible, under the foam). Again tending to lactic sourness. Same for the taste. With some yeast and banana.', {'cats': {'aroma': 0.3, 'taste': 0.3, 'appearance': 0.5, 'palette': 0.4, 'overall': 0.3}})\n",
      "Beginning training\n",
      "0\n"
     ]
    },
    {
     "output_type": "error",
     "ename": "KeyboardInterrupt",
     "evalue": "",
     "traceback": [
      "\u001b[0;31m---------------------------------------------------------------------------\u001b[0m",
      "\u001b[0;31mKeyboardInterrupt\u001b[0m                         Traceback (most recent call last)",
      "\u001b[0;32m/tmp/ipykernel_24302/791095495.py\u001b[0m in \u001b[0;36m<module>\u001b[0;34m\u001b[0m\n\u001b[1;32m      3\u001b[0m \u001b[0;31m# train model\u001b[0m\u001b[0;34m\u001b[0m\u001b[0;34m\u001b[0m\u001b[0;34m\u001b[0m\u001b[0m\n\u001b[1;32m      4\u001b[0m \u001b[0mprint\u001b[0m\u001b[0;34m(\u001b[0m\u001b[0mbeers_training\u001b[0m\u001b[0;34m[\u001b[0m\u001b[0;36m0\u001b[0m\u001b[0;34m]\u001b[0m\u001b[0;34m)\u001b[0m\u001b[0;34m\u001b[0m\u001b[0;34m\u001b[0m\u001b[0m\n\u001b[0;32m----> 5\u001b[0;31m \u001b[0mtrain_model\u001b[0m\u001b[0;34m(\u001b[0m\u001b[0mbeers_training\u001b[0m\u001b[0;34m)\u001b[0m\u001b[0;34m\u001b[0m\u001b[0;34m\u001b[0m\u001b[0m\n\u001b[0m\u001b[1;32m      6\u001b[0m \u001b[0;34m\u001b[0m\u001b[0m\n\u001b[1;32m      7\u001b[0m \u001b[0;31m# evaluate the model (prob need to do better job splitting train/test data)\u001b[0m\u001b[0;34m\u001b[0m\u001b[0;34m\u001b[0m\u001b[0;34m\u001b[0m\u001b[0m\n",
      "\u001b[0;32m/tmp/ipykernel_24302/1873316413.py\u001b[0m in \u001b[0;36mtrain_model\u001b[0;34m(training_data, iterations)\u001b[0m\n\u001b[1;32m     38\u001b[0m                     \u001b[0mexample\u001b[0m \u001b[0;34m=\u001b[0m \u001b[0mExample\u001b[0m\u001b[0;34m.\u001b[0m\u001b[0mfrom_dict\u001b[0m\u001b[0;34m(\u001b[0m\u001b[0mdoc\u001b[0m\u001b[0;34m,\u001b[0m \u001b[0mlabel\u001b[0m\u001b[0;34m)\u001b[0m\u001b[0;34m\u001b[0m\u001b[0;34m\u001b[0m\u001b[0m\n\u001b[1;32m     39\u001b[0m                     \u001b[0mexamples\u001b[0m\u001b[0;34m.\u001b[0m\u001b[0mappend\u001b[0m\u001b[0;34m(\u001b[0m\u001b[0mexample\u001b[0m\u001b[0;34m)\u001b[0m\u001b[0;34m\u001b[0m\u001b[0;34m\u001b[0m\u001b[0m\n\u001b[0;32m---> 40\u001b[0;31m                 nlp.update(\n\u001b[0m\u001b[1;32m     41\u001b[0m                     \u001b[0mexamples\u001b[0m\u001b[0;34m,\u001b[0m\u001b[0;34m\u001b[0m\u001b[0;34m\u001b[0m\u001b[0m\n\u001b[1;32m     42\u001b[0m                     \u001b[0mdrop\u001b[0m\u001b[0;34m=\u001b[0m\u001b[0;36m0.2\u001b[0m\u001b[0;34m,\u001b[0m\u001b[0;34m\u001b[0m\u001b[0;34m\u001b[0m\u001b[0m\n",
      "\u001b[0;32m~/anaconda3/envs/challenge/lib/python3.9/site-packages/spacy/language.py\u001b[0m in \u001b[0;36mupdate\u001b[0;34m(self, examples, _, drop, sgd, losses, component_cfg, exclude, annotates)\u001b[0m\n\u001b[1;32m   1106\u001b[0m             \u001b[0;32mreturn\u001b[0m \u001b[0mlosses\u001b[0m\u001b[0;34m\u001b[0m\u001b[0;34m\u001b[0m\u001b[0m\n\u001b[1;32m   1107\u001b[0m         \u001b[0mvalidate_examples\u001b[0m\u001b[0;34m(\u001b[0m\u001b[0mexamples\u001b[0m\u001b[0;34m,\u001b[0m \u001b[0;34m\"Language.update\"\u001b[0m\u001b[0;34m)\u001b[0m\u001b[0;34m\u001b[0m\u001b[0;34m\u001b[0m\u001b[0m\n\u001b[0;32m-> 1108\u001b[0;31m         \u001b[0mexamples\u001b[0m \u001b[0;34m=\u001b[0m \u001b[0m_copy_examples\u001b[0m\u001b[0;34m(\u001b[0m\u001b[0mexamples\u001b[0m\u001b[0;34m)\u001b[0m\u001b[0;34m\u001b[0m\u001b[0;34m\u001b[0m\u001b[0m\n\u001b[0m\u001b[1;32m   1109\u001b[0m         \u001b[0;32mif\u001b[0m \u001b[0msgd\u001b[0m \u001b[0;32mis\u001b[0m \u001b[0;32mNone\u001b[0m\u001b[0;34m:\u001b[0m\u001b[0;34m\u001b[0m\u001b[0;34m\u001b[0m\u001b[0m\n\u001b[1;32m   1110\u001b[0m             \u001b[0;32mif\u001b[0m \u001b[0mself\u001b[0m\u001b[0;34m.\u001b[0m\u001b[0m_optimizer\u001b[0m \u001b[0;32mis\u001b[0m \u001b[0;32mNone\u001b[0m\u001b[0;34m:\u001b[0m\u001b[0;34m\u001b[0m\u001b[0;34m\u001b[0m\u001b[0m\n",
      "\u001b[0;32m~/anaconda3/envs/challenge/lib/python3.9/site-packages/spacy/language.py\u001b[0m in \u001b[0;36m_copy_examples\u001b[0;34m(examples)\u001b[0m\n\u001b[1;32m   2081\u001b[0m     \u001b[0mLanguage\u001b[0m\u001b[0;34m.\u001b[0m\u001b[0mupdate\u001b[0m\u001b[0;34m.\u001b[0m\u001b[0;34m\u001b[0m\u001b[0;34m\u001b[0m\u001b[0m\n\u001b[1;32m   2082\u001b[0m     \"\"\"\n\u001b[0;32m-> 2083\u001b[0;31m     \u001b[0;32mreturn\u001b[0m \u001b[0;34m[\u001b[0m\u001b[0mExample\u001b[0m\u001b[0;34m(\u001b[0m\u001b[0meg\u001b[0m\u001b[0;34m.\u001b[0m\u001b[0mx\u001b[0m\u001b[0;34m.\u001b[0m\u001b[0mcopy\u001b[0m\u001b[0;34m(\u001b[0m\u001b[0;34m)\u001b[0m\u001b[0;34m,\u001b[0m \u001b[0meg\u001b[0m\u001b[0;34m.\u001b[0m\u001b[0my\u001b[0m\u001b[0;34m)\u001b[0m \u001b[0;32mfor\u001b[0m \u001b[0meg\u001b[0m \u001b[0;32min\u001b[0m \u001b[0mexamples\u001b[0m\u001b[0;34m]\u001b[0m\u001b[0;34m\u001b[0m\u001b[0;34m\u001b[0m\u001b[0m\n\u001b[0m\u001b[1;32m   2084\u001b[0m \u001b[0;34m\u001b[0m\u001b[0m\n\u001b[1;32m   2085\u001b[0m \u001b[0;34m\u001b[0m\u001b[0m\n",
      "\u001b[0;32m~/anaconda3/envs/challenge/lib/python3.9/site-packages/spacy/language.py\u001b[0m in \u001b[0;36m<listcomp>\u001b[0;34m(.0)\u001b[0m\n\u001b[1;32m   2081\u001b[0m     \u001b[0mLanguage\u001b[0m\u001b[0;34m.\u001b[0m\u001b[0mupdate\u001b[0m\u001b[0;34m.\u001b[0m\u001b[0;34m\u001b[0m\u001b[0;34m\u001b[0m\u001b[0m\n\u001b[1;32m   2082\u001b[0m     \"\"\"\n\u001b[0;32m-> 2083\u001b[0;31m     \u001b[0;32mreturn\u001b[0m \u001b[0;34m[\u001b[0m\u001b[0mExample\u001b[0m\u001b[0;34m(\u001b[0m\u001b[0meg\u001b[0m\u001b[0;34m.\u001b[0m\u001b[0mx\u001b[0m\u001b[0;34m.\u001b[0m\u001b[0mcopy\u001b[0m\u001b[0;34m(\u001b[0m\u001b[0;34m)\u001b[0m\u001b[0;34m,\u001b[0m \u001b[0meg\u001b[0m\u001b[0;34m.\u001b[0m\u001b[0my\u001b[0m\u001b[0;34m)\u001b[0m \u001b[0;32mfor\u001b[0m \u001b[0meg\u001b[0m \u001b[0;32min\u001b[0m \u001b[0mexamples\u001b[0m\u001b[0;34m]\u001b[0m\u001b[0;34m\u001b[0m\u001b[0;34m\u001b[0m\u001b[0m\n\u001b[0m\u001b[1;32m   2084\u001b[0m \u001b[0;34m\u001b[0m\u001b[0m\n\u001b[1;32m   2085\u001b[0m \u001b[0;34m\u001b[0m\u001b[0m\n",
      "\u001b[0;32m~/anaconda3/envs/challenge/lib/python3.9/site-packages/spacy/tokens/doc.pyx\u001b[0m in \u001b[0;36mspacy.tokens.doc.Doc.copy\u001b[0;34m()\u001b[0m\n",
      "\u001b[0;32m~/anaconda3/envs/challenge/lib/python3.9/site-packages/spacy/tokens/_dict_proxies.py\u001b[0m in \u001b[0;36mcopy\u001b[0;34m(self, doc)\u001b[0m\n\u001b[1;32m     37\u001b[0m         \u001b[0;32mif\u001b[0m \u001b[0mdoc\u001b[0m \u001b[0;32mis\u001b[0m \u001b[0;32mNone\u001b[0m\u001b[0;34m:\u001b[0m\u001b[0;34m\u001b[0m\u001b[0;34m\u001b[0m\u001b[0m\n\u001b[1;32m     38\u001b[0m             \u001b[0mdoc\u001b[0m \u001b[0;34m=\u001b[0m \u001b[0mself\u001b[0m\u001b[0;34m.\u001b[0m\u001b[0mdoc_ref\u001b[0m\u001b[0;34m(\u001b[0m\u001b[0;34m)\u001b[0m\u001b[0;34m\u001b[0m\u001b[0;34m\u001b[0m\u001b[0m\n\u001b[0;32m---> 39\u001b[0;31m         \u001b[0;32mreturn\u001b[0m \u001b[0mSpanGroups\u001b[0m\u001b[0;34m(\u001b[0m\u001b[0mdoc\u001b[0m\u001b[0;34m)\u001b[0m\u001b[0;34m.\u001b[0m\u001b[0mfrom_bytes\u001b[0m\u001b[0;34m(\u001b[0m\u001b[0mself\u001b[0m\u001b[0;34m.\u001b[0m\u001b[0mto_bytes\u001b[0m\u001b[0;34m(\u001b[0m\u001b[0;34m)\u001b[0m\u001b[0;34m)\u001b[0m\u001b[0;34m\u001b[0m\u001b[0;34m\u001b[0m\u001b[0m\n\u001b[0m\u001b[1;32m     40\u001b[0m \u001b[0;34m\u001b[0m\u001b[0m\n\u001b[1;32m     41\u001b[0m     \u001b[0;32mdef\u001b[0m \u001b[0mto_bytes\u001b[0m\u001b[0;34m(\u001b[0m\u001b[0mself\u001b[0m\u001b[0;34m)\u001b[0m \u001b[0;34m->\u001b[0m \u001b[0mbytes\u001b[0m\u001b[0;34m:\u001b[0m\u001b[0;34m\u001b[0m\u001b[0;34m\u001b[0m\u001b[0m\n",
      "\u001b[0;32m~/anaconda3/envs/challenge/lib/python3.9/site-packages/spacy/tokens/_dict_proxies.py\u001b[0m in \u001b[0;36mto_bytes\u001b[0;34m(self)\u001b[0m\n\u001b[1;32m     43\u001b[0m         \u001b[0;31m# know their names.\u001b[0m\u001b[0;34m\u001b[0m\u001b[0;34m\u001b[0m\u001b[0;34m\u001b[0m\u001b[0m\n\u001b[1;32m     44\u001b[0m         \u001b[0mmsg\u001b[0m \u001b[0;34m=\u001b[0m \u001b[0;34m[\u001b[0m\u001b[0mvalue\u001b[0m\u001b[0;34m.\u001b[0m\u001b[0mto_bytes\u001b[0m\u001b[0;34m(\u001b[0m\u001b[0;34m)\u001b[0m \u001b[0;32mfor\u001b[0m \u001b[0mvalue\u001b[0m \u001b[0;32min\u001b[0m \u001b[0mself\u001b[0m\u001b[0;34m.\u001b[0m\u001b[0mvalues\u001b[0m\u001b[0;34m(\u001b[0m\u001b[0;34m)\u001b[0m\u001b[0;34m]\u001b[0m\u001b[0;34m\u001b[0m\u001b[0;34m\u001b[0m\u001b[0m\n\u001b[0;32m---> 45\u001b[0;31m         \u001b[0;32mreturn\u001b[0m \u001b[0msrsly\u001b[0m\u001b[0;34m.\u001b[0m\u001b[0mmsgpack_dumps\u001b[0m\u001b[0;34m(\u001b[0m\u001b[0mmsg\u001b[0m\u001b[0;34m)\u001b[0m\u001b[0;34m\u001b[0m\u001b[0;34m\u001b[0m\u001b[0m\n\u001b[0m\u001b[1;32m     46\u001b[0m \u001b[0;34m\u001b[0m\u001b[0m\n\u001b[1;32m     47\u001b[0m     \u001b[0;32mdef\u001b[0m \u001b[0mfrom_bytes\u001b[0m\u001b[0;34m(\u001b[0m\u001b[0mself\u001b[0m\u001b[0;34m,\u001b[0m \u001b[0mbytes_data\u001b[0m\u001b[0;34m:\u001b[0m \u001b[0mbytes\u001b[0m\u001b[0;34m)\u001b[0m \u001b[0;34m->\u001b[0m \u001b[0;34m\"SpanGroups\"\u001b[0m\u001b[0;34m:\u001b[0m\u001b[0;34m\u001b[0m\u001b[0;34m\u001b[0m\u001b[0m\n",
      "\u001b[0;32m~/anaconda3/envs/challenge/lib/python3.9/site-packages/srsly/_msgpack_api.py\u001b[0m in \u001b[0;36mmsgpack_dumps\u001b[0;34m(data)\u001b[0m\n\u001b[1;32m     12\u001b[0m     \u001b[0mRETURNS\u001b[0m \u001b[0;34m(\u001b[0m\u001b[0mbytes\u001b[0m\u001b[0;34m)\u001b[0m\u001b[0;34m:\u001b[0m \u001b[0mThe\u001b[0m \u001b[0mserialized\u001b[0m \u001b[0mbytes\u001b[0m\u001b[0;34m.\u001b[0m\u001b[0;34m\u001b[0m\u001b[0;34m\u001b[0m\u001b[0m\n\u001b[1;32m     13\u001b[0m     \"\"\"\n\u001b[0;32m---> 14\u001b[0;31m     \u001b[0;32mreturn\u001b[0m \u001b[0mmsgpack\u001b[0m\u001b[0;34m.\u001b[0m\u001b[0mdumps\u001b[0m\u001b[0;34m(\u001b[0m\u001b[0mdata\u001b[0m\u001b[0;34m,\u001b[0m \u001b[0muse_bin_type\u001b[0m\u001b[0;34m=\u001b[0m\u001b[0;32mTrue\u001b[0m\u001b[0;34m)\u001b[0m\u001b[0;34m\u001b[0m\u001b[0;34m\u001b[0m\u001b[0m\n\u001b[0m\u001b[1;32m     15\u001b[0m \u001b[0;34m\u001b[0m\u001b[0m\n\u001b[1;32m     16\u001b[0m \u001b[0;34m\u001b[0m\u001b[0m\n",
      "\u001b[0;32m~/anaconda3/envs/challenge/lib/python3.9/site-packages/srsly/msgpack/__init__.py\u001b[0m in \u001b[0;36mpackb\u001b[0;34m(o, **kwargs)\u001b[0m\n\u001b[1;32m     53\u001b[0m     \u001b[0mPack\u001b[0m \u001b[0man\u001b[0m \u001b[0mobject\u001b[0m \u001b[0;32mand\u001b[0m \u001b[0;32mreturn\u001b[0m \u001b[0mthe\u001b[0m \u001b[0mpacked\u001b[0m \u001b[0mbytes\u001b[0m\u001b[0;34m.\u001b[0m\u001b[0;34m\u001b[0m\u001b[0;34m\u001b[0m\u001b[0m\n\u001b[1;32m     54\u001b[0m     \"\"\"\n\u001b[0;32m---> 55\u001b[0;31m     \u001b[0;32mreturn\u001b[0m \u001b[0mPacker\u001b[0m\u001b[0;34m(\u001b[0m\u001b[0;34m**\u001b[0m\u001b[0mkwargs\u001b[0m\u001b[0;34m)\u001b[0m\u001b[0;34m.\u001b[0m\u001b[0mpack\u001b[0m\u001b[0;34m(\u001b[0m\u001b[0mo\u001b[0m\u001b[0;34m)\u001b[0m\u001b[0;34m\u001b[0m\u001b[0;34m\u001b[0m\u001b[0m\n\u001b[0m\u001b[1;32m     56\u001b[0m \u001b[0;34m\u001b[0m\u001b[0m\n\u001b[1;32m     57\u001b[0m \u001b[0;34m\u001b[0m\u001b[0m\n",
      "\u001b[0;32m~/anaconda3/envs/challenge/lib/python3.9/site-packages/srsly/msgpack/__init__.py\u001b[0m in \u001b[0;36m__init__\u001b[0;34m(self, *args, **kwargs)\u001b[0m\n\u001b[1;32m     26\u001b[0m     \u001b[0;32mdef\u001b[0m \u001b[0m__init__\u001b[0m\u001b[0;34m(\u001b[0m\u001b[0mself\u001b[0m\u001b[0;34m,\u001b[0m \u001b[0;34m*\u001b[0m\u001b[0margs\u001b[0m\u001b[0;34m,\u001b[0m \u001b[0;34m**\u001b[0m\u001b[0mkwargs\u001b[0m\u001b[0;34m)\u001b[0m\u001b[0;34m:\u001b[0m\u001b[0;34m\u001b[0m\u001b[0;34m\u001b[0m\u001b[0m\n\u001b[1;32m     27\u001b[0m         \u001b[0mdefault\u001b[0m \u001b[0;34m=\u001b[0m \u001b[0mkwargs\u001b[0m\u001b[0;34m.\u001b[0m\u001b[0mget\u001b[0m\u001b[0;34m(\u001b[0m\u001b[0;34m\"default\"\u001b[0m\u001b[0;34m)\u001b[0m\u001b[0;34m\u001b[0m\u001b[0;34m\u001b[0m\u001b[0m\n\u001b[0;32m---> 28\u001b[0;31m         \u001b[0;32mfor\u001b[0m \u001b[0mencoder\u001b[0m \u001b[0;32min\u001b[0m \u001b[0mmsgpack_encoders\u001b[0m\u001b[0;34m.\u001b[0m\u001b[0mget_all\u001b[0m\u001b[0;34m(\u001b[0m\u001b[0;34m)\u001b[0m\u001b[0;34m.\u001b[0m\u001b[0mvalues\u001b[0m\u001b[0;34m(\u001b[0m\u001b[0;34m)\u001b[0m\u001b[0;34m:\u001b[0m\u001b[0;34m\u001b[0m\u001b[0;34m\u001b[0m\u001b[0m\n\u001b[0m\u001b[1;32m     29\u001b[0m             \u001b[0mdefault\u001b[0m \u001b[0;34m=\u001b[0m \u001b[0mfunctools\u001b[0m\u001b[0;34m.\u001b[0m\u001b[0mpartial\u001b[0m\u001b[0;34m(\u001b[0m\u001b[0mencoder\u001b[0m\u001b[0;34m,\u001b[0m \u001b[0mchain\u001b[0m\u001b[0;34m=\u001b[0m\u001b[0mdefault\u001b[0m\u001b[0;34m)\u001b[0m\u001b[0;34m\u001b[0m\u001b[0;34m\u001b[0m\u001b[0m\n\u001b[1;32m     30\u001b[0m         \u001b[0mkwargs\u001b[0m\u001b[0;34m[\u001b[0m\u001b[0;34m\"default\"\u001b[0m\u001b[0;34m]\u001b[0m \u001b[0;34m=\u001b[0m \u001b[0mdefault\u001b[0m\u001b[0;34m\u001b[0m\u001b[0;34m\u001b[0m\u001b[0m\n",
      "\u001b[0;32m~/anaconda3/envs/challenge/lib/python3.9/site-packages/catalogue/__init__.py\u001b[0m in \u001b[0;36mget_all\u001b[0;34m(self)\u001b[0m\n\u001b[1;32m    109\u001b[0m         \u001b[0;32mfor\u001b[0m \u001b[0mkeys\u001b[0m\u001b[0;34m,\u001b[0m \u001b[0mvalue\u001b[0m \u001b[0;32min\u001b[0m \u001b[0mREGISTRY\u001b[0m\u001b[0;34m.\u001b[0m\u001b[0mitems\u001b[0m\u001b[0;34m(\u001b[0m\u001b[0;34m)\u001b[0m\u001b[0;34m:\u001b[0m\u001b[0;34m\u001b[0m\u001b[0;34m\u001b[0m\u001b[0m\n\u001b[1;32m    110\u001b[0m             if len(self.namespace) == len(keys) - 1 and all(\n\u001b[0;32m--> 111\u001b[0;31m                 \u001b[0mself\u001b[0m\u001b[0;34m.\u001b[0m\u001b[0mnamespace\u001b[0m\u001b[0;34m[\u001b[0m\u001b[0mi\u001b[0m\u001b[0;34m]\u001b[0m \u001b[0;34m==\u001b[0m \u001b[0mkeys\u001b[0m\u001b[0;34m[\u001b[0m\u001b[0mi\u001b[0m\u001b[0;34m]\u001b[0m \u001b[0;32mfor\u001b[0m \u001b[0mi\u001b[0m \u001b[0;32min\u001b[0m \u001b[0mrange\u001b[0m\u001b[0;34m(\u001b[0m\u001b[0mlen\u001b[0m\u001b[0;34m(\u001b[0m\u001b[0mself\u001b[0m\u001b[0;34m.\u001b[0m\u001b[0mnamespace\u001b[0m\u001b[0;34m)\u001b[0m\u001b[0;34m)\u001b[0m\u001b[0;34m\u001b[0m\u001b[0;34m\u001b[0m\u001b[0m\n\u001b[0m\u001b[1;32m    112\u001b[0m             ):\n\u001b[1;32m    113\u001b[0m                 \u001b[0mresult\u001b[0m\u001b[0;34m[\u001b[0m\u001b[0mkeys\u001b[0m\u001b[0;34m[\u001b[0m\u001b[0;34m-\u001b[0m\u001b[0;36m1\u001b[0m\u001b[0;34m]\u001b[0m\u001b[0;34m]\u001b[0m \u001b[0;34m=\u001b[0m \u001b[0mvalue\u001b[0m\u001b[0;34m\u001b[0m\u001b[0;34m\u001b[0m\u001b[0m\n",
      "\u001b[0;31mKeyboardInterrupt\u001b[0m: "
     ]
    }
   ],
   "metadata": {}
  },
  {
   "cell_type": "code",
   "execution_count": 15,
   "source": [
    "    # 7. How do find similar beer drinkers by using written reviews only?       \n",
    "\n",
    "nlp = spacy.load(\"en_core_web_lg\")\n",
    "beers_groups_by_drinker = beers.groupby(['review_profileName'], axis=0)\n",
    "\n",
    "# combine all of the reviews into one string\n",
    "# but limit the size of string bc performance\n",
    "size=100000\n",
    "a = nlp(beers_groups_by_drinker.get_group('RedDiamond')['review_text'].to_string()[0:size])\n",
    "b = nlp(beers_groups_by_drinker.get_group('jeff1973')['review_text'].to_string()[0:size])\n",
    "c = nlp(beers_groups_by_drinker.get_group('TheGordianKnot')['review_text'].to_string()[0:size])\n",
    "d = nlp(beers_groups_by_drinker.get_group('beerman207')['review_text'].to_string()[0:size])\n",
    "print('a, b',a.similarity(b))\n",
    "print('a, c',a.similarity(c))\n",
    "print('a, d',a.similarity(d))\n",
    "print('b, c',b.similarity(c))\n",
    "print('b, d',b.similarity(d))\n",
    "print('c, d',c.similarity(d))\n",
    "\n",
    "# RedDiamon and beerman207 seem to be the most similar linguistically\n"
   ],
   "outputs": [
    {
     "output_type": "stream",
     "name": "stdout",
     "text": [
      "a, b 0.8673761341115795\n",
      "a, c 0.9623981847045289\n",
      "a, d 0.9791981038081332\n",
      "b, c 0.9251090939229425\n",
      "b, d 0.9005460133234128\n",
      "c, d 0.9695237770316095\n"
     ]
    }
   ],
   "metadata": {}
  }
 ],
 "metadata": {
  "kernelspec": {
   "name": "python3",
   "display_name": "Python 3.9.6 64-bit ('challenge': conda)"
  },
  "language_info": {
   "codemirror_mode": {
    "name": "ipython",
    "version": 3
   },
   "file_extension": ".py",
   "mimetype": "text/x-python",
   "name": "python",
   "nbconvert_exporter": "python",
   "pygments_lexer": "ipython3",
   "version": "3.9.6"
  },
  "interpreter": {
   "hash": "baa250f6f8c1c287502f4a0b8e2b54608768056c3e9579d8da337f5b83e836bc"
  }
 },
 "nbformat": 4,
 "nbformat_minor": 5
}